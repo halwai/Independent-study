{
 "cells": [
  {
   "cell_type": "code",
   "execution_count": 1,
   "metadata": {
    "collapsed": false
   },
   "outputs": [
    {
     "name": "stderr",
     "output_type": "stream",
     "text": [
      "Using TensorFlow backend.\n"
     ]
    }
   ],
   "source": [
    "import pickle\n",
    "import numpy as np\n",
    "import matplotlib\n",
    "import matplotlib.pyplot as plt\n",
    "import seaborn as sns;\n",
    "sns.set()\n",
    "from utils import load_dataset\n",
    "\n",
    "flatten = True\n",
    "dataset = 'mnist'\n",
    "\n",
    "(x_train, y_train), (x_test, y_test) = load_dataset(dataset, flatten)\n",
    "\n",
    "with open('weights.pickle','rb') as f:\n",
    "    weights = pickle.load(f)\n",
    "\n",
    "with open('test.pickle','rb') as f:\n",
    "        intermediate_test_outputs = pickle.load(f)\n",
    "with open('train.pickle','rb') as f:\n",
    "    intermediate_train_outputs = pickle.load(f)\n"
   ]
  },
  {
   "cell_type": "code",
   "execution_count": 2,
   "metadata": {
    "collapsed": false
   },
   "outputs": [],
   "source": [
    "#fig, ax = plt.subplots()\n",
    "#ax = sns.heatmap(weights[1][0])\n",
    "#fig.savefig('temp.pdf')"
   ]
  },
  {
   "cell_type": "code",
   "execution_count": 3,
   "metadata": {
    "collapsed": false
   },
   "outputs": [],
   "source": [
    "sample_no = 200\n",
    "fig, axn = plt.subplots(2,2,sharex=True, sharey=True)\n",
    "for i,ax in enumerate(axn.flat):\n",
    "    if i==0:\n",
    "        sns.heatmap(x_train[sample_no].reshape(28,28), ax= ax)\n",
    "    elif i == 1:\n",
    "        sns.heatmap(intermediate_train_outputs[0][sample_no].reshape((28,28)), ax=ax)\n",
    "    elif i == 2:\n",
    "        sns.heatmap(intermediate_train_outputs[1][sample_no].reshape((28,28)), ax=ax)\n",
    "    else:\n",
    "        sns.heatmap(y_train[sample_no].reshape((28,28)), ax=ax)\n",
    "fig\n",
    "fig.savefig('temp.pdf')"
   ]
  },
  {
   "cell_type": "code",
   "execution_count": null,
   "metadata": {
    "collapsed": false
   },
   "outputs": [],
   "source": [
    "#layer_weights = weights[0][0]\n",
    "fig.close()"
   ]
  },
  {
   "cell_type": "code",
   "execution_count": null,
   "metadata": {
    "collapsed": true
   },
   "outputs": [],
   "source": []
  }
 ],
 "metadata": {
  "kernelspec": {
   "display_name": "Python 2",
   "language": "python",
   "name": "python2"
  },
  "language_info": {
   "codemirror_mode": {
    "name": "ipython",
    "version": 2
   },
   "file_extension": ".py",
   "mimetype": "text/x-python",
   "name": "python",
   "nbconvert_exporter": "python",
   "pygments_lexer": "ipython2",
   "version": "2.7.12"
  }
 },
 "nbformat": 4,
 "nbformat_minor": 2
}
